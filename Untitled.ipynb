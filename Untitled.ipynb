{
 "cells": [
  {
   "cell_type": "markdown",
   "metadata": {},
   "source": [
    "# Articles Master Thesis\n",
    "#### Levi Slap - may 2019"
   ]
  },
  {
   "cell_type": "markdown",
   "metadata": {},
   "source": [
    "### <a href=\"./files/koyama2009.pdf\" download> Koyama et al. - First-principles study on lithium removal of Li2MnO3 - 2009 </a>\n",
    "#### Summary:\n",
    "- Li0.5MnO3 has three different Wyckoff positions 2b, 2c and 4h in the C2/m model. \n",
    "- Going from Li2MnO3 to Li1.5MnO3 the charge is mostly compensetate by oxidation of oxygen. Simullar resluts were found going to Li1MnO3.\n",
    "- Li0.5MnO3 in the 4h configuration transforms into the O1 stacking, P3-1m, and had the lowest energy by 0.31 eV (between 2b and 2c the difference was 0.03 eV). \n",
    "- During (dis)charging the first lithium to be removed is from the lithium layer. \n",
    "\n",
    "\n",
    "#### VASP details:\n",
    "- LDAUU = 5.0\n",
    "- ENCUT = 400\n",
    "- EDIFG = 10^-3\n",
    "- Monkhorst-Pack with 0.05 A density\n",
    "\n",
    "#### Latex reference:\n",
    "```\n",
    "@article{Koyama2009,\n",
    "author = {Y. Koyama, I. Tanaka, M. Nagao, R. Kanno},\n",
    "title = {{First-principles study on lithium removal of Li_2MnO_3}},\n",
    "journal = {Journal of Power Sources},\n",
    "volume = {189},\n",
    "number = {1},\n",
    "year = {2009},\n",
    "pages = {798-801}\n",
    "}\n",
    "```"
   ]
  },
  {
   "cell_type": "markdown",
   "metadata": {},
   "source": [
    "### <a href=\"./files/persson2014.pdf\" download> Kristin Persson - Structural and Chemical Evolution of the Layered Li-Excess LixMnO3 as a Function of Li Content from First-Principles Calculations - 2014 </a>\n",
    "\n",
    "#### Summary:\n",
    "- Comparison of magnetic moment on Mn and O between GGA, GGA+U and HSE for different lithium concentrations. \n",
    "- Cluster expansion for different lithium concentrations. When it drops below 1 then Mn migration is abundent. Mn migrates to the li layer.\n",
    "- The energy bariers for Oxygen dimer formation were found to be non zero, mostly at the surface.\n",
    "- Two different paths for Mn migration were investigated under different lithium concentrations.\n",
    "- Transformation from layered Li2MnO3 to spinel LiMn2O4. \n",
    "\n",
    "#### VASP details:\n",
    "- LDAUU = 4.5\n",
    "- ENCUT = 520\n",
    "- Nudged elastic band\n",
    "\n",
    "#### Latex reference:\n",
    "```\n",
    "@article{Persson2014,\n",
    "author = {E. Lee, K. Persson},\n",
    "title = {{Structural and Chemical Evolution of the Layered Li-Excess Li_xMnO_3 as a Function of Li Content from First-Principles\n",
    "Calculations}},\n",
    "journal = {Advanced Energy Materials},\n",
    "volume = {4},\n",
    "number = {15},\n",
    "year = {2014},\n",
    "pages = {489-497}\n",
    "}\n",
    "```"
   ]
  },
  {
   "cell_type": "markdown",
   "metadata": {},
   "source": [
    "### <a href=\"./files/chen2016.pdf\" download> H. Chen & S. Islam - Lithium Extraction Mechanism in Li-Rich Li2MnO3 Involving Oxygen Hole Formation and Dimerization - 2016 </a>\n",
    "\n",
    "#### Summary:\n",
    "- Experimental results for lattice parameters and bond lengths.\n",
    "- O is less stable at the surface then in the bulk.\n",
    "- MnO3 -> MnO2 + O2.\n",
    "- Mn migration is triggered by oxygen dimer formation.\n",
    "- \n",
    "\n",
    "#### VASP details:\n",
    "- HSE06\n",
    "- ENCUT = 450\n",
    "- Nudged elastic band\n",
    "\n",
    "#### Latex reference:\n",
    "```\n",
    "@article{Chen2016,\n",
    "author = {H. Chen, S. Islam },\n",
    "title = {{Lithium Extraction Mechanism in Li-Rich Li2MnO3 Involving Oxygen Hole Formation and Dimerization}},\n",
    "journal = {Chemistery Of Materials},\n",
    "volume = {28},\n",
    "number = {18},\n",
    "year = {2016},\n",
    "pages = {6656−6663}\n",
    "}\n",
    "```"
   ]
  },
  {
   "cell_type": "markdown",
   "metadata": {},
   "source": [
    "### <a href=\"./files/artem2015.pdf\" download> Artem Abakumov - Visualization of O-O peroxo-like dimers in high-capacity layered oxides for Li-ion batteries - 2015 </a>\n",
    "\n",
    "#### Summary:\n",
    "- Experimental, TEM visualization of O-O dimers\n",
    "- O-O pairing occurs predominatly with M(d)-O(sp) band overlap.\n",
    "- The O-O pairing is tunable with the composition\n",
    "- Mixed redox process, O and Ir.\n",
    "- O3 to O1 change which prevents voltage fade but still capacity fade.\n",
    "\n",
    "#### Latex reference:\n",
    "```\n",
    "@article{Artem2015,\n",
    "author = {E. McCalla, A. Abakumov, et al. },\n",
    "title = {{Lithium Extraction Mechanism in Li-Rich Li2MnO3 Involving Oxygen Hole Formation and Dimerization}},\n",
    "journal = {Science},\n",
    "volume = {350},\n",
    "number = {6267},\n",
    "year = {2015},\n",
    "pages = {1516−1521}\n",
    "}\n",
    "```"
   ]
  }
 ],
 "metadata": {
  "kernelspec": {
   "display_name": "Python 3",
   "language": "python",
   "name": "python3"
  },
  "language_info": {
   "codemirror_mode": {
    "name": "ipython",
    "version": 3
   },
   "file_extension": ".py",
   "mimetype": "text/x-python",
   "name": "python",
   "nbconvert_exporter": "python",
   "pygments_lexer": "ipython3",
   "version": "3.7.1"
  }
 },
 "nbformat": 4,
 "nbformat_minor": 2
}
